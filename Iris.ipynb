{
 "cells": [
  {
   "cell_type": "code",
   "execution_count": 2,
   "metadata": {},
   "outputs": [],
   "source": [
    "import numpy as np\n",
    "import matplotlib.pyplot as plt\n",
    "from matplotlib import style\n",
    "import warnings\n",
    "from math import sqrt\n",
    "from collections import Counter\n",
    "import pandas as pd\n",
    "import random\n",
    "from sklearn.neighbors import KNeighborsClassifier\n",
    "from sklearn.model_selection import train_test_split"
   ]
  },
  {
   "cell_type": "code",
   "execution_count": 3,
   "metadata": {
    "scrolled": true
   },
   "outputs": [
    {
     "name": "stdout",
     "output_type": "stream",
     "text": [
      "[[5.1, 3.5, 1.4, 0.2, 1.0], [4.9, 3.0, 1.4, 0.2, 1.0], [4.7, 3.2, 1.3, 0.2, 1.0], [4.6, 3.1, 1.5, 0.2, 1.0], [5.0, 3.6, 1.4, 0.2, 1.0], [5.4, 3.9, 1.7, 0.4, 1.0], [4.6, 3.4, 1.4, 0.3, 1.0], [5.0, 3.4, 1.5, 0.2, 1.0], [4.4, 2.9, 1.4, 0.2, 1.0], [4.9, 3.1, 1.5, 0.1, 1.0], [5.4, 3.7, 1.5, 0.2, 1.0], [4.8, 3.4, 1.6, 0.2, 1.0], [4.8, 3.0, 1.4, 0.1, 1.0], [4.3, 3.0, 1.1, 0.1, 1.0], [5.8, 4.0, 1.2, 0.2, 1.0], [5.7, 4.4, 1.5, 0.4, 1.0], [5.4, 3.9, 1.3, 0.4, 1.0], [5.1, 3.5, 1.4, 0.3, 1.0], [5.7, 3.8, 1.7, 0.3, 1.0], [5.1, 3.8, 1.5, 0.3, 1.0], [5.4, 3.4, 1.7, 0.2, 1.0], [5.1, 3.7, 1.5, 0.4, 1.0], [4.6, 3.6, 1.0, 0.2, 1.0], [5.1, 3.3, 1.7, 0.5, 1.0], [4.8, 3.4, 1.9, 0.2, 1.0], [5.0, 3.0, 1.6, 0.2, 1.0], [5.0, 3.4, 1.6, 0.4, 1.0], [5.2, 3.5, 1.5, 0.2, 1.0], [5.2, 3.4, 1.4, 0.2, 1.0], [4.7, 3.2, 1.6, 0.2, 1.0], [4.8, 3.1, 1.6, 0.2, 1.0], [5.4, 3.4, 1.5, 0.4, 1.0], [5.2, 4.1, 1.5, 0.1, 1.0], [5.5, 4.2, 1.4, 0.2, 1.0], [4.9, 3.1, 1.5, 0.1, 1.0], [5.0, 3.2, 1.2, 0.2, 1.0], [5.5, 3.5, 1.3, 0.2, 1.0], [4.9, 3.1, 1.5, 0.1, 1.0], [4.4, 3.0, 1.3, 0.2, 1.0], [5.1, 3.4, 1.5, 0.2, 1.0], [5.0, 3.5, 1.3, 0.3, 1.0], [4.5, 2.3, 1.3, 0.3, 1.0], [4.4, 3.2, 1.3, 0.2, 1.0], [5.0, 3.5, 1.6, 0.6, 1.0], [5.1, 3.8, 1.9, 0.4, 1.0], [4.8, 3.0, 1.4, 0.3, 1.0], [5.1, 3.8, 1.6, 0.2, 1.0], [4.6, 3.2, 1.4, 0.2, 1.0], [5.3, 3.7, 1.5, 0.2, 1.0], [5.0, 3.3, 1.4, 0.2, 1.0], [7.0, 3.2, 4.7, 1.4, 2.0], [6.4, 3.2, 4.5, 1.5, 2.0], [6.9, 3.1, 4.9, 1.5, 2.0], [5.5, 2.3, 4.0, 1.3, 2.0], [6.5, 2.8, 4.6, 1.5, 2.0], [5.7, 2.8, 4.5, 1.3, 2.0], [6.3, 3.3, 4.7, 1.6, 2.0], [4.9, 2.4, 3.3, 1.0, 2.0], [6.6, 2.9, 4.6, 1.3, 2.0], [5.2, 2.7, 3.9, 1.4, 2.0], [5.0, 2.0, 3.5, 1.0, 2.0], [5.9, 3.0, 4.2, 1.5, 2.0], [6.0, 2.2, 4.0, 1.0, 2.0], [6.1, 2.9, 4.7, 1.4, 2.0], [5.6, 2.9, 3.6, 1.3, 2.0], [6.7, 3.1, 4.4, 1.4, 2.0], [5.6, 3.0, 4.5, 1.5, 2.0], [5.8, 2.7, 4.1, 1.0, 2.0], [6.2, 2.2, 4.5, 1.5, 2.0], [5.6, 2.5, 3.9, 1.1, 2.0], [5.9, 3.2, 4.8, 1.8, 2.0], [6.1, 2.8, 4.0, 1.3, 2.0], [6.3, 2.5, 4.9, 1.5, 2.0], [6.1, 2.8, 4.7, 1.2, 2.0], [6.4, 2.9, 4.3, 1.3, 2.0], [6.6, 3.0, 4.4, 1.4, 2.0], [6.8, 2.8, 4.8, 1.4, 2.0], [6.7, 3.0, 5.0, 1.7, 2.0], [6.0, 2.9, 4.5, 1.5, 2.0], [5.7, 2.6, 3.5, 1.0, 2.0], [5.5, 2.4, 3.8, 1.1, 2.0], [5.5, 2.4, 3.7, 1.0, 2.0], [5.8, 2.7, 3.9, 1.2, 2.0], [6.0, 2.7, 5.1, 1.6, 2.0], [5.4, 3.0, 4.5, 1.5, 2.0], [6.0, 3.4, 4.5, 1.6, 2.0], [6.7, 3.1, 4.7, 1.5, 2.0], [6.3, 2.3, 4.4, 1.3, 2.0], [5.6, 3.0, 4.1, 1.3, 2.0], [5.5, 2.5, 4.0, 1.3, 2.0], [5.5, 2.6, 4.4, 1.2, 2.0], [6.1, 3.0, 4.6, 1.4, 2.0], [5.8, 2.6, 4.0, 1.2, 2.0], [5.0, 2.3, 3.3, 1.0, 2.0], [5.6, 2.7, 4.2, 1.3, 2.0], [5.7, 3.0, 4.2, 1.2, 2.0], [5.7, 2.9, 4.2, 1.3, 2.0], [6.2, 2.9, 4.3, 1.3, 2.0], [5.1, 2.5, 3.0, 1.1, 2.0], [5.7, 2.8, 4.1, 1.3, 2.0], [6.3, 3.3, 6.0, 2.5, 3.0], [5.8, 2.7, 5.1, 1.9, 3.0], [7.1, 3.0, 5.9, 2.1, 3.0], [6.3, 2.9, 5.6, 1.8, 3.0], [6.5, 3.0, 5.8, 2.2, 3.0], [7.6, 3.0, 6.6, 2.1, 3.0], [4.9, 2.5, 4.5, 1.7, 3.0], [7.3, 2.9, 6.3, 1.8, 3.0], [6.7, 2.5, 5.8, 1.8, 3.0], [7.2, 3.6, 6.1, 2.5, 3.0], [6.5, 3.2, 5.1, 2.0, 3.0], [6.4, 2.7, 5.3, 1.9, 3.0], [6.8, 3.0, 5.5, 2.1, 3.0], [5.7, 2.5, 5.0, 2.0, 3.0], [5.8, 2.8, 5.1, 2.4, 3.0], [6.4, 3.2, 5.3, 2.3, 3.0], [6.5, 3.0, 5.5, 1.8, 3.0], [7.7, 3.8, 6.7, 2.2, 3.0], [7.7, 2.6, 6.9, 2.3, 3.0], [6.0, 2.2, 5.0, 1.5, 3.0], [6.9, 3.2, 5.7, 2.3, 3.0], [5.6, 2.8, 4.9, 2.0, 3.0], [7.7, 2.8, 6.7, 2.0, 3.0], [6.3, 2.7, 4.9, 1.8, 3.0], [6.7, 3.3, 5.7, 2.1, 3.0], [7.2, 3.2, 6.0, 1.8, 3.0], [6.2, 2.8, 4.8, 1.8, 3.0], [6.1, 3.0, 4.9, 1.8, 3.0], [6.4, 2.8, 5.6, 2.1, 3.0], [7.2, 3.0, 5.8, 1.6, 3.0], [7.4, 2.8, 6.1, 1.9, 3.0], [7.9, 3.8, 6.4, 2.0, 3.0], [6.4, 2.8, 5.6, 2.2, 3.0], [6.3, 2.8, 5.1, 1.5, 3.0], [6.1, 2.6, 5.6, 1.4, 3.0], [7.7, 3.0, 6.1, 2.3, 3.0], [6.3, 3.4, 5.6, 2.4, 3.0], [6.4, 3.1, 5.5, 1.8, 3.0], [6.0, 3.0, 4.8, 1.8, 3.0], [6.9, 3.1, 5.4, 2.1, 3.0], [6.7, 3.1, 5.6, 2.4, 3.0], [6.9, 3.1, 5.1, 2.3, 3.0], [5.8, 2.7, 5.1, 1.9, 3.0], [6.8, 3.2, 5.9, 2.3, 3.0], [6.7, 3.3, 5.7, 2.5, 3.0], [6.7, 3.0, 5.2, 2.3, 3.0], [6.3, 2.5, 5.0, 1.9, 3.0], [6.5, 3.0, 5.2, 2.0, 3.0], [6.2, 3.4, 5.4, 2.3, 3.0], [5.9, 3.0, 5.1, 1.8, 3.0]]\n"
     ]
    }
   ],
   "source": [
    "df=pd.read_csv('irisdata')\n",
    "df.replace('Iris-setosa',1,inplace=True)\n",
    "df.replace('Iris-versicolor',2,inplace=True)\n",
    "df.replace('Iris-virginica',3,inplace=True)\n",
    "full_data=df.astype(float).values.tolist()   \n",
    "print(full_data)"
   ]
  },
  {
   "cell_type": "code",
   "execution_count": 4,
   "metadata": {},
   "outputs": [],
   "source": [
    "random.shuffle(full_data)\n",
    "test_size=0.1\n",
    "train_set={1:[],2:[],3:[]}\n",
    "test_set={1:[],2:[],3:[]}\n",
    "train_data=full_data[: -int(test_size*len(full_data))]\n",
    "test_data=full_data[-int(test_size*len(full_data)):]"
   ]
  },
  {
   "cell_type": "code",
   "execution_count": 5,
   "metadata": {},
   "outputs": [
    {
     "name": "stdout",
     "output_type": "stream",
     "text": [
      "{1: [[4.9, 3.0, 1.4, 0.2], [4.8, 3.4, 1.6, 0.2], [5.1, 3.5, 1.4, 0.2], [4.9, 3.1, 1.5, 0.1], [5.7, 4.4, 1.5, 0.4], [4.3, 3.0, 1.1, 0.1], [4.4, 3.2, 1.3, 0.2], [5.4, 3.9, 1.7, 0.4], [5.2, 3.5, 1.5, 0.2], [4.5, 2.3, 1.3, 0.3], [4.6, 3.4, 1.4, 0.3], [5.0, 3.4, 1.6, 0.4], [5.4, 3.9, 1.3, 0.4], [4.9, 3.1, 1.5, 0.1], [4.9, 3.1, 1.5, 0.1], [5.1, 3.7, 1.5, 0.4], [4.4, 3.0, 1.3, 0.2], [5.2, 3.4, 1.4, 0.2], [5.0, 3.2, 1.2, 0.2], [5.1, 3.8, 1.9, 0.4], [5.1, 3.4, 1.5, 0.2], [5.5, 4.2, 1.4, 0.2], [5.0, 3.5, 1.3, 0.3], [5.1, 3.3, 1.7, 0.5], [4.4, 2.9, 1.4, 0.2], [4.6, 3.2, 1.4, 0.2], [5.2, 4.1, 1.5, 0.1], [4.7, 3.2, 1.6, 0.2], [4.8, 3.0, 1.4, 0.3], [5.4, 3.4, 1.7, 0.2], [5.0, 3.0, 1.6, 0.2], [5.3, 3.7, 1.5, 0.2], [5.1, 3.8, 1.5, 0.3], [5.0, 3.5, 1.6, 0.6], [4.8, 3.4, 1.9, 0.2], [5.4, 3.4, 1.5, 0.4], [4.8, 3.0, 1.4, 0.1], [4.7, 3.2, 1.3, 0.2], [5.7, 3.8, 1.7, 0.3], [5.0, 3.6, 1.4, 0.2], [5.5, 3.5, 1.3, 0.2], [4.6, 3.1, 1.5, 0.2], [5.4, 3.7, 1.5, 0.2]], 2: [[5.4, 3.0, 4.5, 1.5], [5.8, 2.6, 4.0, 1.2], [5.5, 2.4, 3.7, 1.0], [6.9, 3.1, 4.9, 1.5], [6.4, 3.2, 4.5, 1.5], [6.3, 2.3, 4.4, 1.3], [5.5, 2.4, 3.8, 1.1], [5.6, 2.9, 3.6, 1.3], [5.7, 3.0, 4.2, 1.2], [6.1, 2.9, 4.7, 1.4], [5.7, 2.8, 4.1, 1.3], [5.5, 2.6, 4.4, 1.2], [5.8, 2.7, 3.9, 1.2], [6.1, 2.8, 4.0, 1.3], [6.7, 3.1, 4.4, 1.4], [6.0, 2.2, 4.0, 1.0], [6.7, 3.1, 4.7, 1.5], [7.0, 3.2, 4.7, 1.4], [6.4, 2.9, 4.3, 1.3], [5.1, 2.5, 3.0, 1.1], [5.6, 3.0, 4.1, 1.3], [5.0, 2.3, 3.3, 1.0], [5.5, 2.5, 4.0, 1.3], [5.5, 2.3, 4.0, 1.3], [5.0, 2.0, 3.5, 1.0], [6.0, 3.4, 4.5, 1.6], [5.6, 2.5, 3.9, 1.1], [4.9, 2.4, 3.3, 1.0], [6.0, 2.7, 5.1, 1.6], [6.6, 2.9, 4.6, 1.3], [5.7, 2.9, 4.2, 1.3], [5.8, 2.7, 4.1, 1.0], [5.7, 2.6, 3.5, 1.0], [6.3, 3.3, 4.7, 1.6], [6.7, 3.0, 5.0, 1.7], [6.5, 2.8, 4.6, 1.5], [5.6, 2.7, 4.2, 1.3], [6.2, 2.2, 4.5, 1.5], [5.7, 2.8, 4.5, 1.3], [5.9, 3.2, 4.8, 1.8], [5.6, 3.0, 4.5, 1.5], [6.2, 2.9, 4.3, 1.3], [6.1, 2.8, 4.7, 1.2], [6.6, 3.0, 4.4, 1.4], [5.9, 3.0, 4.2, 1.5], [6.8, 2.8, 4.8, 1.4], [6.3, 2.5, 4.9, 1.5], [6.0, 2.9, 4.5, 1.5], [6.1, 3.0, 4.6, 1.4]], 3: [[6.4, 3.1, 5.5, 1.8], [7.6, 3.0, 6.6, 2.1], [6.1, 3.0, 4.9, 1.8], [6.2, 3.4, 5.4, 2.3], [4.9, 2.5, 4.5, 1.7], [7.7, 2.6, 6.9, 2.3], [5.7, 2.5, 5.0, 2.0], [7.7, 2.8, 6.7, 2.0], [5.9, 3.0, 5.1, 1.8], [6.4, 2.8, 5.6, 2.1], [6.3, 2.9, 5.6, 1.8], [7.2, 3.6, 6.1, 2.5], [6.5, 3.2, 5.1, 2.0], [6.9, 3.1, 5.1, 2.3], [7.1, 3.0, 5.9, 2.1], [6.3, 2.5, 5.0, 1.9], [7.3, 2.9, 6.3, 1.8], [6.7, 3.3, 5.7, 2.1], [6.4, 2.7, 5.3, 1.9], [5.8, 2.7, 5.1, 1.9], [6.0, 3.0, 4.8, 1.8], [5.8, 2.8, 5.1, 2.4], [6.0, 2.2, 5.0, 1.5], [6.5, 3.0, 5.5, 1.8], [7.7, 3.8, 6.7, 2.2], [7.2, 3.2, 6.0, 1.8], [6.8, 3.2, 5.9, 2.3], [6.7, 2.5, 5.8, 1.8], [7.9, 3.8, 6.4, 2.0], [7.4, 2.8, 6.1, 1.9], [6.5, 3.0, 5.8, 2.2], [6.4, 2.8, 5.6, 2.2], [6.7, 3.0, 5.2, 2.3], [6.5, 3.0, 5.2, 2.0], [6.9, 3.1, 5.4, 2.1], [6.7, 3.3, 5.7, 2.5], [6.3, 2.8, 5.1, 1.5], [7.2, 3.0, 5.8, 1.6], [6.8, 3.0, 5.5, 2.1], [6.7, 3.1, 5.6, 2.4], [5.6, 2.8, 4.9, 2.0], [6.9, 3.2, 5.7, 2.3], [6.4, 3.2, 5.3, 2.3]]}\n"
     ]
    }
   ],
   "source": [
    "for i in train_data:\n",
    "    train_set[i[-1]].append(i[:-1])  #appending the whole rows as values under the key of label for train_set\n",
    "for i in test_data:\n",
    "        test_set[i[-1]].append(i[:-1])\n",
    "        \n",
    "print(train_set)       "
   ]
  },
  {
   "cell_type": "code",
   "execution_count": 39,
   "metadata": {},
   "outputs": [],
   "source": [
    "def k_nearest_neighbours(train_set,data,k=3):\n",
    "    if len(data)>=k:\n",
    "        warnings.warn('K is set to a value less than voting groups')\n",
    "    distances=[]\n",
    "    for label in train_set:\n",
    "        for features in train_set[label]:\n",
    "            euclidian_distance=np.linalg.norm(np.array(features)-np.array(data))\n",
    "            distances.append([euclidian_distance,label])\n",
    "    votes=[i[1] for i in sorted(distances)[:k]]\n",
    "        \n",
    "    vote_result=Counter(votes).most_common(1)[0][0]\n",
    "    return vote_result        "
   ]
  },
  {
   "cell_type": "code",
   "execution_count": 40,
   "metadata": {},
   "outputs": [
    {
     "name": "stdout",
     "output_type": "stream",
     "text": [
      "1.0\n",
      "1.0\n",
      "1.0\n",
      "1.0\n",
      "1.0\n",
      "1.0\n",
      "1.0\n",
      "1.0\n",
      "1.0\n",
      "1.0\n",
      "1.0\n",
      "1.0\n",
      "1.0\n",
      "1.0\n",
      "1.0\n",
      "1.0\n",
      "1.0\n",
      "1.0\n",
      "1.0\n",
      "1.0\n",
      "1.0\n",
      "1.0\n",
      "1.0\n",
      "1.0\n",
      "1.0\n",
      "1.0\n",
      "1.0\n",
      "1.0\n",
      "1.0\n",
      "1.0\n",
      "1.0\n",
      "1.0\n",
      "1.0\n",
      "1.0\n",
      "1.0\n",
      "1.0\n",
      "1.0\n",
      "1.0\n",
      "1.0\n",
      "1.0\n",
      "1.0\n",
      "1.0\n",
      "1.0\n",
      "1.0\n",
      "1.0\n",
      "1.0\n",
      "1.0\n",
      "1.0\n",
      "1.0\n",
      "1.0\n",
      "1.0\n",
      "1.0\n",
      "1.0\n",
      "1.0\n",
      "0.9987878787878788\n",
      "0.9976190476190476\n",
      "0.9964912280701754\n",
      "0.9954022988505747\n",
      "0.9943502824858758\n",
      "0.9933333333333333\n",
      "0.9923497267759562\n",
      "0.9913978494623656\n",
      "0.9904761904761905\n",
      "0.9895833333333334\n",
      "0.9887179487179487\n",
      "0.9878787878787879\n",
      "0.9870646766169154\n",
      "0.9862745098039216\n",
      "0.9855072463768116\n",
      "0.9847619047619047\n",
      "0.984037558685446\n",
      "0.9833333333333333\n",
      "0.982648401826484\n",
      "0.9819819819819819\n",
      "0.9813333333333333\n",
      "0.980701754385965\n",
      "0.9792207792207792\n",
      "0.9786324786324786\n",
      "0.9780590717299578\n",
      "0.9775\n",
      "0.9769547325102881\n",
      "0.9772357723577236\n",
      "0.97429718875502\n",
      "0.9714285714285714\n",
      "0.9686274509803922\n",
      "0.9658914728682171\n",
      "0.9632183908045977\n",
      "0.9606060606060606\n",
      "0.9580524344569289\n",
      "0.9555555555555556\n",
      "0.9531135531135531\n",
      "0.9507246376811594\n",
      "0.9483870967741935\n",
      "0.9460992907801419\n",
      "0.9438596491228071\n",
      "0.9416666666666667\n",
      "0.9395189003436426\n",
      "0.9374149659863945\n",
      "0.9353535353535354\n",
      "0.9333333333333333\n",
      "0.9313531353135314\n",
      "0.9294117647058824\n",
      "0.9275080906148867\n",
      "0.9256410256410257\n",
      "0.9238095238095239\n",
      "0.9220125786163522\n",
      "0.9202492211838006\n",
      "0.9185185185185185\n",
      "0.9168195718654434\n",
      "0.9151515151515152\n",
      "0.9129129129129129\n",
      "0.9107142857142857\n",
      "0.9085545722713865\n",
      "0.9064327485380117\n",
      "0.9043478260869565\n",
      "0.9022988505747126\n",
      "0.9002849002849003\n",
      "0.8983050847457628\n",
      "0.896358543417367\n",
      "0.8944444444444445\n",
      "0.8925619834710744\n",
      "0.8907103825136612\n",
      "0.8888888888888888\n",
      "0.886021505376344\n",
      "0.8832\n",
      "0.8804232804232804\n",
      "0.8776902887139107\n",
      "0.875\n",
      "0.8723514211886305\n",
      "0.8697435897435898\n",
      "0.867175572519084\n",
      "0.8646464646464647\n",
      "0.8621553884711779\n",
      "0.8597014925373134\n",
      "0.8572839506172839\n",
      "0.8549019607843137\n",
      "0.8525547445255475\n",
      "0.8502415458937198\n",
      "0.8479616306954436\n",
      "0.8457142857142858\n",
      "0.8434988179669031\n",
      "0.8413145539906103\n",
      "0.8391608391608392\n",
      "0.837037037037037\n",
      "0.8349425287356322\n",
      "0.8328767123287671\n",
      "0.8308390022675737\n",
      "0.8288288288288288\n",
      "0.8268456375838926\n",
      "0.8248888888888889\n",
      "0.8229580573951435\n",
      "0.8210526315789474\n",
      "0.8191721132897604\n",
      "0.8173160173160173\n",
      "0.8154838709677419\n",
      "0.8136752136752137\n",
      "0.8118895966029724\n",
      "0.810126582278481\n",
      "0.8083857442348008\n",
      "0.8066666666666666\n",
      "0.8049689440993789\n",
      "0.8032921810699588\n",
      "0.8016359918200409\n",
      "0.8\n",
      "0.7983838383838384\n",
      "0.7967871485943775\n",
      "0.7952095808383234\n",
      "0.7936507936507936\n",
      "0.7921104536489152\n",
      "0.7905882352941176\n",
      "0.789083820662768\n",
      "0.7875968992248062\n",
      "0.7861271676300579\n",
      "0.7846743295019157\n",
      "0.7832380952380953\n",
      "0.7818181818181819\n",
      "0.7804143126177024\n",
      "0.7790262172284644\n",
      "0.7776536312849162\n",
      "0.7762962962962963\n",
      "0.7749539594843462\n",
      "0.7736263736263737\n",
      "0.7723132969034608\n",
      "0.7710144927536232\n",
      "0.7697297297297298\n",
      "0.7684587813620072\n",
      "0.7672014260249554\n",
      "0.7659574468085106\n",
      "0.7647266313932981\n",
      "0.7635087719298246\n",
      "0.762303664921466\n",
      "0.7611111111111111\n",
      "0.7599309153713298\n",
      "0.7587628865979381\n",
      "0.7576068376068376\n"
     ]
    },
    {
     "data": {
      "text/plain": [
       "<function matplotlib.pyplot.show>"
      ]
     },
     "execution_count": 40,
     "metadata": {},
     "output_type": "execute_result"
    },
    {
     "data": {
      "image/png": "[encoded data removed]",
      "text/plain": [
       "<matplotlib.figure.Figure at 0x19ee94c3c50>"
      ]
     },
     "metadata": {},
     "output_type": "display_data"
    }
   ],
   "source": [
    "correct=0\n",
    "total=0\n",
    "plt.xlabel('K-value')\n",
    "plt.ylabel('Accuracy')\n",
    "for k in range(5,200):\n",
    "    for group in test_set:\n",
    "        for data in test_set[group]:\n",
    "            vote=k_nearest_neighbours(train_set,data,k)\n",
    "            if group == vote:\n",
    "                correct +=1\n",
    "            total +=1\n",
    "    plt.scatter(k,(correct/total),s=1,color='b')   \n",
    "    print(float(correct/total))\n",
    "\n",
    "plt.show \n"
   ]
  },
  {
   "cell_type": "code",
   "execution_count": 41,
   "metadata": {},
   "outputs": [],
   "source": [
    "neigh = KNeighborsClassifier(n_neighbors=3)"
   ]
  },
  {
   "cell_type": "code",
   "execution_count": 42,
   "metadata": {},
   "outputs": [
    {
     "data": {
      "text/plain": [
       "array([[5. , 3.6, 1.4, 0.2, 1. ],\n",
       "       [7.9, 3.8, 6.4, 2. , 3. ],\n",
       "       [6. , 2.9, 4.5, 1.5, 2. ],\n",
       "       [6. , 3.4, 4.5, 1.6, 2. ],\n",
       "       [6.1, 2.8, 4. , 1.3, 2. ],\n",
       "       [6.4, 2.9, 4.3, 1.3, 2. ],\n",
       "       [6.9, 3.1, 5.4, 2.1, 3. ],\n",
       "       [6.5, 3.2, 5.1, 2. , 3. ],\n",
       "       [5.1, 3.7, 1.5, 0.4, 1. ],\n",
       "       [5.6, 2.7, 4.2, 1.3, 2. ],\n",
       "       [5. , 3.5, 1.3, 0.3, 1. ],\n",
       "       [5.1, 3.4, 1.5, 0.2, 1. ],\n",
       "       [5.1, 3.8, 1.9, 0.4, 1. ],\n",
       "       [5.4, 3.7, 1.5, 0.2, 1. ],\n",
       "       [7.2, 3.2, 6. , 1.8, 3. ],\n",
       "       [5.8, 2.7, 5.1, 1.9, 3. ],\n",
       "       [5.8, 2.6, 4. , 1.2, 2. ],\n",
       "       [6.9, 3.1, 5.1, 2.3, 3. ],\n",
       "       [6.4, 3.1, 5.5, 1.8, 3. ],\n",
       "       [7.7, 2.6, 6.9, 2.3, 3. ],\n",
       "       [6.2, 2.2, 4.5, 1.5, 2. ],\n",
       "       [5.5, 3.5, 1.3, 0.2, 1. ],\n",
       "       [5.8, 2.8, 5.1, 2.4, 3. ],\n",
       "       [6.6, 2.9, 4.6, 1.3, 2. ],\n",
       "       [5.6, 3. , 4.5, 1.5, 2. ],\n",
       "       [4.3, 3. , 1.1, 0.1, 1. ],\n",
       "       [4.7, 3.2, 1.6, 0.2, 1. ],\n",
       "       [5.6, 2.8, 4.9, 2. , 3. ],\n",
       "       [6.3, 2.7, 4.9, 1.8, 3. ],\n",
       "       [7.2, 3.6, 6.1, 2.5, 3. ],\n",
       "       [7.4, 2.8, 6.1, 1.9, 3. ],\n",
       "       [5.7, 4.4, 1.5, 0.4, 1. ],\n",
       "       [5. , 3.4, 1.5, 0.2, 1. ],\n",
       "       [5.3, 3.7, 1.5, 0.2, 1. ],\n",
       "       [6.6, 3. , 4.4, 1.4, 2. ],\n",
       "       [6.2, 3.4, 5.4, 2.3, 3. ],\n",
       "       [6.5, 2.8, 4.6, 1.5, 2. ],\n",
       "       [5.1, 3.3, 1.7, 0.5, 1. ],\n",
       "       [6.3, 2.9, 5.6, 1.8, 3. ],\n",
       "       [5.1, 3.5, 1.4, 0.2, 1. ],\n",
       "       [5. , 3. , 1.6, 0.2, 1. ],\n",
       "       [5.6, 2.5, 3.9, 1.1, 2. ],\n",
       "       [6.2, 2.8, 4.8, 1.8, 3. ],\n",
       "       [5.7, 2.8, 4.5, 1.3, 2. ],\n",
       "       [6.7, 3.3, 5.7, 2.5, 3. ],\n",
       "       [4.6, 3.1, 1.5, 0.2, 1. ],\n",
       "       [6. , 2.7, 5.1, 1.6, 2. ],\n",
       "       [6.2, 2.9, 4.3, 1.3, 2. ],\n",
       "       [4.8, 3.4, 1.6, 0.2, 1. ],\n",
       "       [4.9, 2.5, 4.5, 1.7, 3. ],\n",
       "       [4.6, 3.6, 1. , 0.2, 1. ],\n",
       "       [6.7, 3. , 5. , 1.7, 2. ],\n",
       "       [6.7, 3. , 5.2, 2.3, 3. ],\n",
       "       [5.9, 3. , 5.1, 1.8, 3. ],\n",
       "       [5.8, 2.7, 4.1, 1. , 2. ],\n",
       "       [4.6, 3.2, 1.4, 0.2, 1. ],\n",
       "       [6.9, 3.1, 4.9, 1.5, 2. ],\n",
       "       [4.8, 3. , 1.4, 0.3, 1. ],\n",
       "       [6.1, 2.6, 5.6, 1.4, 3. ],\n",
       "       [5.6, 3. , 4.1, 1.3, 2. ],\n",
       "       [5.7, 2.9, 4.2, 1.3, 2. ],\n",
       "       [6.1, 3. , 4.9, 1.8, 3. ],\n",
       "       [5.8, 2.7, 5.1, 1.9, 3. ],\n",
       "       [7.6, 3. , 6.6, 2.1, 3. ],\n",
       "       [4.4, 2.9, 1.4, 0.2, 1. ],\n",
       "       [5.6, 2.9, 3.6, 1.3, 2. ],\n",
       "       [5. , 3.3, 1.4, 0.2, 1. ],\n",
       "       [5.1, 3.8, 1.5, 0.3, 1. ],\n",
       "       [6.4, 2.8, 5.6, 2.1, 3. ],\n",
       "       [6.8, 2.8, 4.8, 1.4, 2. ],\n",
       "       [4.4, 3. , 1.3, 0.2, 1. ],\n",
       "       [5.2, 4.1, 1.5, 0.1, 1. ],\n",
       "       [5. , 2.3, 3.3, 1. , 2. ],\n",
       "       [4.4, 3.2, 1.3, 0.2, 1. ],\n",
       "       [6. , 3. , 4.8, 1.8, 3. ],\n",
       "       [7. , 3.2, 4.7, 1.4, 2. ],\n",
       "       [6.1, 2.8, 4.7, 1.2, 2. ],\n",
       "       [4.9, 2.4, 3.3, 1. , 2. ],\n",
       "       [5. , 3.2, 1.2, 0.2, 1. ],\n",
       "       [6.3, 2.5, 5. , 1.9, 3. ],\n",
       "       [6. , 2.2, 5. , 1.5, 3. ],\n",
       "       [5.4, 3. , 4.5, 1.5, 2. ],\n",
       "       [6.8, 3.2, 5.9, 2.3, 3. ],\n",
       "       [6.3, 3.3, 6. , 2.5, 3. ],\n",
       "       [5.5, 2.4, 3.7, 1. , 2. ],\n",
       "       [7.7, 3. , 6.1, 2.3, 3. ],\n",
       "       [6.5, 3. , 5.8, 2.2, 3. ],\n",
       "       [5.5, 2.5, 4. , 1.3, 2. ],\n",
       "       [6.4, 3.2, 5.3, 2.3, 3. ],\n",
       "       [5. , 3.5, 1.6, 0.6, 1. ],\n",
       "       [7.2, 3. , 5.8, 1.6, 3. ],\n",
       "       [6.3, 3.4, 5.6, 2.4, 3. ],\n",
       "       [6.7, 3.1, 4.7, 1.5, 2. ],\n",
       "       [6. , 2.2, 4. , 1. , 2. ],\n",
       "       [4.9, 3.1, 1.5, 0.1, 1. ],\n",
       "       [5.9, 3.2, 4.8, 1.8, 2. ],\n",
       "       [5.4, 3.9, 1.3, 0.4, 1. ],\n",
       "       [5.5, 2.4, 3.8, 1.1, 2. ],\n",
       "       [5.2, 3.5, 1.5, 0.2, 1. ],\n",
       "       [6.1, 3. , 4.6, 1.4, 2. ],\n",
       "       [6.8, 3. , 5.5, 2.1, 3. ],\n",
       "       [6.7, 3.3, 5.7, 2.1, 3. ],\n",
       "       [5.2, 3.4, 1.4, 0.2, 1. ],\n",
       "       [6.3, 2.8, 5.1, 1.5, 3. ],\n",
       "       [5.4, 3.4, 1.5, 0.4, 1. ],\n",
       "       [5.7, 3.8, 1.7, 0.3, 1. ],\n",
       "       [5.9, 3. , 4.2, 1.5, 2. ],\n",
       "       [7.7, 2.8, 6.7, 2. , 3. ],\n",
       "       [5.4, 3.4, 1.7, 0.2, 1. ],\n",
       "       [5.5, 2.3, 4. , 1.3, 2. ],\n",
       "       [6.5, 3. , 5.5, 1.8, 3. ],\n",
       "       [5.5, 2.6, 4.4, 1.2, 2. ],\n",
       "       [6.4, 2.8, 5.6, 2.2, 3. ],\n",
       "       [4.8, 3.1, 1.6, 0.2, 1. ],\n",
       "       [5.5, 4.2, 1.4, 0.2, 1. ],\n",
       "       [5.1, 2.5, 3. , 1.1, 2. ],\n",
       "       [4.7, 3.2, 1.3, 0.2, 1. ],\n",
       "       [4.5, 2.3, 1.3, 0.3, 1. ],\n",
       "       [6.7, 2.5, 5.8, 1.8, 3. ],\n",
       "       [7.3, 2.9, 6.3, 1.8, 3. ],\n",
       "       [5.7, 2.8, 4.1, 1.3, 2. ],\n",
       "       [6.5, 3. , 5.2, 2. , 3. ],\n",
       "       [5.1, 3.8, 1.6, 0.2, 1. ],\n",
       "       [5.7, 2.6, 3.5, 1. , 2. ],\n",
       "       [4.9, 3.1, 1.5, 0.1, 1. ],\n",
       "       [5.4, 3.9, 1.7, 0.4, 1. ],\n",
       "       [5.2, 2.7, 3.9, 1.4, 2. ],\n",
       "       [4.8, 3. , 1.4, 0.1, 1. ],\n",
       "       [6.3, 2.5, 4.9, 1.5, 2. ],\n",
       "       [7.7, 3.8, 6.7, 2.2, 3. ],\n",
       "       [4.9, 3.1, 1.5, 0.1, 1. ],\n",
       "       [6.3, 3.3, 4.7, 1.6, 2. ],\n",
       "       [4.9, 3. , 1.4, 0.2, 1. ],\n",
       "       [5.1, 3.5, 1.4, 0.3, 1. ],\n",
       "       [6.4, 2.7, 5.3, 1.9, 3. ]])"
      ]
     },
     "execution_count": 42,
     "metadata": {},
     "output_type": "execute_result"
    }
   ],
   "source": [
    "x=np.array(train_data)\n",
    "x"
   ]
  },
  {
   "cell_type": "code",
   "execution_count": 44,
   "metadata": {},
   "outputs": [],
   "source": [
    "y=[]\n",
    "for i in range(len(train_data)):\n",
    "    y.append(train_data[i][4])"
   ]
  },
  {
   "cell_type": "code",
   "execution_count": 45,
   "metadata": {},
   "outputs": [
    {
     "name": "stdout",
     "output_type": "stream",
     "text": [
      "[1.0, 3.0, 2.0, 2.0, 2.0, 2.0, 3.0, 3.0, 1.0, 2.0, 1.0, 1.0, 1.0, 1.0, 3.0, 3.0, 2.0, 3.0, 3.0, 3.0, 2.0, 1.0, 3.0, 2.0, 2.0, 1.0, 1.0, 3.0, 3.0, 3.0, 3.0, 1.0, 1.0, 1.0, 2.0, 3.0, 2.0, 1.0, 3.0, 1.0, 1.0, 2.0, 3.0, 2.0, 3.0, 1.0, 2.0, 2.0, 1.0, 3.0, 1.0, 2.0, 3.0, 3.0, 2.0, 1.0, 2.0, 1.0, 3.0, 2.0, 2.0, 3.0, 3.0, 3.0, 1.0, 2.0, 1.0, 1.0, 3.0, 2.0, 1.0, 1.0, 2.0, 1.0, 3.0, 2.0, 2.0, 2.0, 1.0, 3.0, 3.0, 2.0, 3.0, 3.0, 2.0, 3.0, 3.0, 2.0, 3.0, 1.0, 3.0, 3.0, 2.0, 2.0, 1.0, 2.0, 1.0, 2.0, 1.0, 2.0, 3.0, 3.0, 1.0, 3.0, 1.0, 1.0, 2.0, 3.0, 1.0, 2.0, 3.0, 2.0, 3.0, 1.0, 1.0, 2.0, 1.0, 1.0, 3.0, 3.0, 2.0, 3.0, 1.0, 2.0, 1.0, 1.0, 2.0, 1.0, 2.0, 3.0, 1.0, 2.0, 1.0, 1.0, 3.0]\n"
     ]
    }
   ],
   "source": [
    "print(y)"
   ]
  },
  {
   "cell_type": "code",
   "execution_count": 46,
   "metadata": {},
   "outputs": [
    {
     "name": "stdout",
     "output_type": "stream",
     "text": [
      "[[5.0, 3.6, 1.4, 0.2], [7.9, 3.8, 6.4, 2.0], [6.0, 2.9, 4.5, 1.5], [6.0, 3.4, 4.5, 1.6], [6.1, 2.8, 4.0, 1.3], [6.4, 2.9, 4.3, 1.3], [6.9, 3.1, 5.4, 2.1], [6.5, 3.2, 5.1, 2.0], [5.1, 3.7, 1.5, 0.4], [5.6, 2.7, 4.2, 1.3], [5.0, 3.5, 1.3, 0.3], [5.1, 3.4, 1.5, 0.2], [5.1, 3.8, 1.9, 0.4], [5.4, 3.7, 1.5, 0.2], [7.2, 3.2, 6.0, 1.8], [5.8, 2.7, 5.1, 1.9], [5.8, 2.6, 4.0, 1.2], [6.9, 3.1, 5.1, 2.3], [6.4, 3.1, 5.5, 1.8], [7.7, 2.6, 6.9, 2.3], [6.2, 2.2, 4.5, 1.5], [5.5, 3.5, 1.3, 0.2], [5.8, 2.8, 5.1, 2.4], [6.6, 2.9, 4.6, 1.3], [5.6, 3.0, 4.5, 1.5], [4.3, 3.0, 1.1, 0.1], [4.7, 3.2, 1.6, 0.2], [5.6, 2.8, 4.9, 2.0], [6.3, 2.7, 4.9, 1.8], [7.2, 3.6, 6.1, 2.5], [7.4, 2.8, 6.1, 1.9], [5.7, 4.4, 1.5, 0.4], [5.0, 3.4, 1.5, 0.2], [5.3, 3.7, 1.5, 0.2], [6.6, 3.0, 4.4, 1.4], [6.2, 3.4, 5.4, 2.3], [6.5, 2.8, 4.6, 1.5], [5.1, 3.3, 1.7, 0.5], [6.3, 2.9, 5.6, 1.8], [5.1, 3.5, 1.4, 0.2], [5.0, 3.0, 1.6, 0.2], [5.6, 2.5, 3.9, 1.1], [6.2, 2.8, 4.8, 1.8], [5.7, 2.8, 4.5, 1.3], [6.7, 3.3, 5.7, 2.5], [4.6, 3.1, 1.5, 0.2], [6.0, 2.7, 5.1, 1.6], [6.2, 2.9, 4.3, 1.3], [4.8, 3.4, 1.6, 0.2], [4.9, 2.5, 4.5, 1.7], [4.6, 3.6, 1.0, 0.2], [6.7, 3.0, 5.0, 1.7], [6.7, 3.0, 5.2, 2.3], [5.9, 3.0, 5.1, 1.8], [5.8, 2.7, 4.1, 1.0], [4.6, 3.2, 1.4, 0.2], [6.9, 3.1, 4.9, 1.5], [4.8, 3.0, 1.4, 0.3], [6.1, 2.6, 5.6, 1.4], [5.6, 3.0, 4.1, 1.3], [5.7, 2.9, 4.2, 1.3], [6.1, 3.0, 4.9, 1.8], [5.8, 2.7, 5.1, 1.9], [7.6, 3.0, 6.6, 2.1], [4.4, 2.9, 1.4, 0.2], [5.6, 2.9, 3.6, 1.3], [5.0, 3.3, 1.4, 0.2], [5.1, 3.8, 1.5, 0.3], [6.4, 2.8, 5.6, 2.1], [6.8, 2.8, 4.8, 1.4], [4.4, 3.0, 1.3, 0.2], [5.2, 4.1, 1.5, 0.1], [5.0, 2.3, 3.3, 1.0], [4.4, 3.2, 1.3, 0.2], [6.0, 3.0, 4.8, 1.8], [7.0, 3.2, 4.7, 1.4], [6.1, 2.8, 4.7, 1.2], [4.9, 2.4, 3.3, 1.0], [5.0, 3.2, 1.2, 0.2], [6.3, 2.5, 5.0, 1.9], [6.0, 2.2, 5.0, 1.5], [5.4, 3.0, 4.5, 1.5], [6.8, 3.2, 5.9, 2.3], [6.3, 3.3, 6.0, 2.5], [5.5, 2.4, 3.7, 1.0], [7.7, 3.0, 6.1, 2.3], [6.5, 3.0, 5.8, 2.2], [5.5, 2.5, 4.0, 1.3], [6.4, 3.2, 5.3, 2.3], [5.0, 3.5, 1.6, 0.6], [7.2, 3.0, 5.8, 1.6], [6.3, 3.4, 5.6, 2.4], [6.7, 3.1, 4.7, 1.5], [6.0, 2.2, 4.0, 1.0], [4.9, 3.1, 1.5, 0.1], [5.9, 3.2, 4.8, 1.8], [5.4, 3.9, 1.3, 0.4], [5.5, 2.4, 3.8, 1.1], [5.2, 3.5, 1.5, 0.2], [6.1, 3.0, 4.6, 1.4], [6.8, 3.0, 5.5, 2.1], [6.7, 3.3, 5.7, 2.1], [5.2, 3.4, 1.4, 0.2], [6.3, 2.8, 5.1, 1.5], [5.4, 3.4, 1.5, 0.4], [5.7, 3.8, 1.7, 0.3], [5.9, 3.0, 4.2, 1.5], [7.7, 2.8, 6.7, 2.0], [5.4, 3.4, 1.7, 0.2], [5.5, 2.3, 4.0, 1.3], [6.5, 3.0, 5.5, 1.8], [5.5, 2.6, 4.4, 1.2], [6.4, 2.8, 5.6, 2.2], [4.8, 3.1, 1.6, 0.2], [5.5, 4.2, 1.4, 0.2], [5.1, 2.5, 3.0, 1.1], [4.7, 3.2, 1.3, 0.2], [4.5, 2.3, 1.3, 0.3], [6.7, 2.5, 5.8, 1.8], [7.3, 2.9, 6.3, 1.8], [5.7, 2.8, 4.1, 1.3], [6.5, 3.0, 5.2, 2.0], [5.1, 3.8, 1.6, 0.2], [5.7, 2.6, 3.5, 1.0], [4.9, 3.1, 1.5, 0.1], [5.4, 3.9, 1.7, 0.4], [5.2, 2.7, 3.9, 1.4], [4.8, 3.0, 1.4, 0.1], [6.3, 2.5, 4.9, 1.5], [7.7, 3.8, 6.7, 2.2], [4.9, 3.1, 1.5, 0.1], [6.3, 3.3, 4.7, 1.6], [4.9, 3.0, 1.4, 0.2], [5.1, 3.5, 1.4, 0.3], [6.4, 2.7, 5.3, 1.9]]\n"
     ]
    }
   ],
   "source": [
    "np.array(y)\n",
    "ttrain_data=[]\n",
    "for i in train_data:\n",
    "    ttrain_data.append(i[:4])\n",
    "np.array(ttrain_data)\n",
    "print (ttrain_data)    "
   ]
  },
  {
   "cell_type": "code",
   "execution_count": 47,
   "metadata": {},
   "outputs": [
    {
     "data": {
      "text/plain": [
       "KNeighborsClassifier(algorithm='auto', leaf_size=30, metric='minkowski',\n",
       "           metric_params=None, n_jobs=1, n_neighbors=3, p=2,\n",
       "           weights='uniform')"
      ]
     },
     "execution_count": 47,
     "metadata": {},
     "output_type": "execute_result"
    }
   ],
   "source": [
    "neigh.fit(ttrain_data,y)\n"
   ]
  },
  {
   "cell_type": "code",
   "execution_count": 48,
   "metadata": {},
   "outputs": [],
   "source": [
    "ttest_data=[]\n",
    "for i in test_data:\n",
    "    ttest_data.append(i[:4])\n",
    "np.array(ttest_data)\n",
    " \n",
    "result=neigh.predict(np.array(ttest_data))"
   ]
  },
  {
   "cell_type": "code",
   "execution_count": 54,
   "metadata": {},
   "outputs": [
    {
     "name": "stdout",
     "output_type": "stream",
     "text": [
      "[4.8, 3.1, 1.6, 0.2, 1.0]\n"
     ]
    }
   ],
   "source": [
    "print(test_data[0])"
   ]
  },
  {
   "cell_type": "code",
   "execution_count": 49,
   "metadata": {},
   "outputs": [],
   "source": [
    "correct=0\n",
    "for i in range(len(ttest_data)):\n",
    "    if result[i]==test_data[i][4]:\n",
    "        correct+=1"
   ]
  },
  {
   "cell_type": "code",
   "execution_count": 50,
   "metadata": {},
   "outputs": [
    {
     "name": "stdout",
     "output_type": "stream",
     "text": [
      "1.0\n"
     ]
    }
   ],
   "source": [
    "print(correct/len(test_data))"
   ]
  },
  {
   "cell_type": "code",
   "execution_count": null,
   "metadata": {},
   "outputs": [],
   "source": []
  }
 ],
 "metadata": {
  "kernelspec": {
   "display_name": "Python 3",
   "language": "python",
   "name": "python3"
  },
  "language_info": {
   "codemirror_mode": {
    "name": "ipython",
    "version": 3
   },
   "file_extension": ".py",
   "mimetype": "text/x-python",
   "name": "python",
   "nbconvert_exporter": "python",
   "pygments_lexer": "ipython3",
   "version": "3.6.4"
  }
 },
 "nbformat": 4,
 "nbformat_minor": 2
}
