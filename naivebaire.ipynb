{
 "cells": [
  {
   "cell_type": "code",
   "execution_count": 7,
   "metadata": {},
   "outputs": [],
   "source": [
    "days=[[\"ran\",\"was tired\",\"woke up early\"],\n",
    "     [\"ran\",\"was not tired\",\"didn't wake up early\"],\n",
    "     [\"didn't run\",\"was tired\",\"woke up early\"],\n",
    "     [\"ran\",\"was tired\",\"didn't woke up early\"],\n",
    "     [\"didn't run\",\"was tired\",\"woke up early\"],\n",
    "     [\"ran\",\"was not tired\",\"didn't wake up early\"],\n",
    "     [\"ran\",\"was tired\",\"woke up early\"]]"
   ]
  },
  {
   "cell_type": "code",
   "execution_count": 8,
   "metadata": {},
   "outputs": [],
   "source": [
    "new_day=[\"ran\",\"didn't wake up early\"]"
   ]
  },
  {
   "cell_type": "code",
   "execution_count": 9,
   "metadata": {},
   "outputs": [
    {
     "data": {
      "text/plain": [
       "0.7142857142857143"
      ]
     },
     "execution_count": 9,
     "metadata": {},
     "output_type": "execute_result"
    }
   ],
   "source": [
    "prob_tired=len([d for d in days if d[1]==\"was tired\"])/len(days)\n",
    "prob_tired"
   ]
  },
  {
   "cell_type": "code",
   "execution_count": 10,
   "metadata": {},
   "outputs": [
    {
     "data": {
      "text/plain": [
       "0.7142857142857143"
      ]
     },
     "execution_count": 10,
     "metadata": {},
     "output_type": "execute_result"
    }
   ],
   "source": [
    "prob_ran=len([d for d in days if d[0] ==\"ran\"]) /len(days)\n",
    "prob_ran"
   ]
  },
  {
   "cell_type": "code",
   "execution_count": 11,
   "metadata": {},
   "outputs": [
    {
     "data": {
      "text/plain": [
       "0.6"
      ]
     },
     "execution_count": 11,
     "metadata": {},
     "output_type": "execute_result"
    }
   ],
   "source": [
    "prob_ran_given_tired=len([d for d in days if d[0]==\"ran\" and d[1]==\"was tired\"])/len([d for d in days if d[1]==\"was tired\"])\n",
    "prob_ran_given_tired"
   ]
  },
  {
   "cell_type": "code",
   "execution_count": 12,
   "metadata": {},
   "outputs": [
    {
     "data": {
      "text/plain": [
       "0.6"
      ]
     },
     "execution_count": 12,
     "metadata": {},
     "output_type": "execute_result"
    }
   ],
   "source": [
    "prob_tired_given_ran=(prob_ran_given_tired * prob_tired)/prob_ran\n",
    "prob_tired_given_ran"
   ]
  },
  {
   "cell_type": "code",
   "execution_count": 13,
   "metadata": {},
   "outputs": [
    {
     "name": "stdout",
     "output_type": "stream",
     "text": [
      "Probability of being tired given that you ran:0.6\n"
     ]
    }
   ],
   "source": [
    "print(\"Probability of being tired given that you ran:\"+str(prob_tired_given_ran))"
   ]
  },
  {
   "cell_type": "code",
   "execution_count": 14,
   "metadata": {},
   "outputs": [],
   "source": [
    "def calc_y_probability(y_label , days):\n",
    "    return len([d for d in days if d[1]==y_label])/len(days)"
   ]
  },
  {
   "cell_type": "code",
   "execution_count": 15,
   "metadata": {},
   "outputs": [
    {
     "data": {
      "text/plain": [
       "0.7142857142857143"
      ]
     },
     "execution_count": 15,
     "metadata": {},
     "output_type": "execute_result"
    }
   ],
   "source": [
    "calc_y_probability(\"was tired\",days)"
   ]
  },
  {
   "cell_type": "code",
   "execution_count": 16,
   "metadata": {},
   "outputs": [
    {
     "data": {
      "text/plain": [
       "0.2857142857142857"
      ]
     },
     "execution_count": 16,
     "metadata": {},
     "output_type": "execute_result"
    }
   ],
   "source": [
    "calc_y_probability(\"was not tired\",days)"
   ]
  },
  {
   "cell_type": "code",
   "execution_count": 21,
   "metadata": {},
   "outputs": [],
   "source": [
    "def calc_ran_probability_given_y(ran_label,y_label,days):\n",
    "    return len([d for d in days if d[1]== y_label and d[0]== ran_label]) / len(days)"
   ]
  },
  {
   "cell_type": "code",
   "execution_count": 25,
   "metadata": {},
   "outputs": [],
   "source": [
    "def calc_woke_early_probability_given_y(work_label,y_label,days):\n",
    "    return len([d for d in days if d[1]== y_label and d[2]==work_label])/ len(days)"
   ]
  },
  {
   "cell_type": "code",
   "execution_count": 26,
   "metadata": {},
   "outputs": [],
   "source": [
    "denominator=len([d for d in days if d[0]==new_day[0] and d[2]==new_day[1]])/len(days)"
   ]
  },
  {
   "cell_type": "code",
   "execution_count": 29,
   "metadata": {},
   "outputs": [
    {
     "data": {
      "text/plain": [
       "0.2857142857142857"
      ]
     },
     "execution_count": 29,
     "metadata": {},
     "output_type": "execute_result"
    }
   ],
   "source": [
    "denominator"
   ]
  },
  {
   "cell_type": "code",
   "execution_count": 27,
   "metadata": {},
   "outputs": [],
   "source": [
    "prob_tired=(calc_y_probability(\"was tired\",days) * calc_ran_probability_given_y(new_day[0],\"was tired\",days)*\n",
    "               calc_woke_early_probability_given_y(new_day[1],\"was tired\",days))/ denominator"
   ]
  },
  {
   "cell_type": "code",
   "execution_count": 28,
   "metadata": {},
   "outputs": [],
   "source": [
    "prob_not_tired=(calc_y_probability(\"was not tired\",days) * calc_ran_probability_given_y(new_day[0],\"was not tired\",days)*\n",
    "               calc_woke_early_probability_given_y(new_day[1],\"was not tired\",days))/ denominator"
   ]
  },
  {
   "cell_type": "code",
   "execution_count": 30,
   "metadata": {},
   "outputs": [
    {
     "name": "stdout",
     "output_type": "stream",
     "text": [
      "Final classificaiton for new day:{0}.Tired probability:{1}.Not tired probability:\n"
     ]
    }
   ],
   "source": [
    "classification = \"was tired\"\n",
    "if prob_not_tired > prob_tired:\n",
    "    classficcation = \"was not tired\"\n",
    "print(\"Final classificaiton for new day:{0}.Tired probability:{1}.Not tired probability:\")    "
   ]
  },
  {
   "cell_type": "code",
   "execution_count": null,
   "metadata": {},
   "outputs": [],
   "source": []
  }
 ],
 "metadata": {
  "kernelspec": {
   "display_name": "Python 3",
   "language": "python",
   "name": "python3"
  },
  "language_info": {
   "codemirror_mode": {
    "name": "ipython",
    "version": 3
   },
   "file_extension": ".py",
   "mimetype": "text/x-python",
   "name": "python",
   "nbconvert_exporter": "python",
   "pygments_lexer": "ipython3",
   "version": "3.6.4"
  }
 },
 "nbformat": 4,
 "nbformat_minor": 2
}
