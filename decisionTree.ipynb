{
 "cells": [
  {
   "cell_type": "code",
   "execution_count": 1,
   "metadata": {},
   "outputs": [
    {
     "name": "stdout",
     "output_type": "stream",
     "text": [
      "{1, 3}\n"
     ]
    },
    {
     "data": {
      "text/plain": [
       "{'Apple': 2, 'Grape': 2, 'Lemon': 1}"
      ]
     },
     "execution_count": 1,
     "metadata": {},
     "output_type": "execute_result"
    }
   ],
   "source": [
    "training_data=[['Green',3,'Apple'],\n",
    "               ['Yellow',3,'Apple'],\n",
    "               ['Red',1,'Grape'],\n",
    "               ['Red',1,'Grape'],\n",
    "               ['Yellow',3,'Lemon']\n",
    "              ]\n",
    "header=['Color','Diameter','Fruit']\n",
    "def unique_vals(Data,col):\n",
    "    return set([row[col] for row in Data])\n",
    "print(unique_vals(training_data,1))\n",
    "def count_labels(Data):\n",
    "    counts={}\n",
    "    for row in Data:\n",
    "        label=row[-1]\n",
    "        if label not in counts:\n",
    "            counts[label]=0\n",
    "        counts[label]+=1\n",
    "    return counts\n",
    "count_labels(training_data)\n",
    "def is_numeric(value):\n",
    "    return isinstance(value,int) or isinstance(value,float)\n",
    "is_numeric(20)\n",
    "count_labels(training_data)"
   ]
  },
  {
   "cell_type": "code",
   "execution_count": 5,
   "metadata": {},
   "outputs": [
    {
     "data": {
      "text/plain": [
       "Is Color == Red ?"
      ]
     },
     "execution_count": 5,
     "metadata": {},
     "output_type": "execute_result"
    }
   ],
   "source": [
    "class Question:\n",
    "    def __init__(self,column,value):\n",
    "        self.column=column\n",
    "        self.value=value\n",
    "        \n",
    "    def match(self,example):\n",
    "        val=example[self.column]\n",
    "        if is_numeric(val):\n",
    "            return val ==self.value\n",
    "        else:\n",
    "            return val==self.value\n",
    "        \n",
    "    def __repr__(self):\n",
    "        #This is just a helper method to print the question formed\n",
    "        #the question in a readable formt.\n",
    "        condition=\"==\"\n",
    "        if is_numeric(self.value):\n",
    "            condition=\"==\"\n",
    "        return \"Is %s %s %s ?\" %(header[self.column],condition,str(self.value))\n",
    "Question(0,'Red')\n"
   ]
  },
  {
   "cell_type": "code",
   "execution_count": 6,
   "metadata": {},
   "outputs": [],
   "source": [
    "def partition(rows,question):\n",
    "    true_rows,false_rows=[],[]\n",
    "    for row in rows:\n",
    "        if question.match(row):\n",
    "            true_rows.append(row)\n",
    "        else:\n",
    "            false_rows.append(row)\n",
    "    return true_rows , false_rows    \n",
    "            "
   ]
  },
  {
   "cell_type": "code",
   "execution_count": 7,
   "metadata": {},
   "outputs": [
    {
     "name": "stdout",
     "output_type": "stream",
     "text": [
      "[['Red', 1, 'Grape'], ['Red', 1, 'Grape']]\n"
     ]
    }
   ],
   "source": [
    "true_rows,false_rows=partition(training_data, Question(1,1))\n",
    "print(true_rows)"
   ]
  },
  {
   "cell_type": "code",
   "execution_count": 8,
   "metadata": {},
   "outputs": [],
   "source": [
    "def gini(rows):\n",
    "    counts=count_labels(rows)\n",
    "    impurity=1\n",
    "    for lbl in counts:\n",
    "        prob_of_lbl=counts[lbl]/float(len(rows))\n",
    "        impurity -=prob_of_lbl**2\n",
    "    return impurity\n",
    "\n"
   ]
  },
  {
   "cell_type": "code",
   "execution_count": 9,
   "metadata": {},
   "outputs": [],
   "source": [
    "def info_gain(left, right, current_uncertanity):\n",
    "    p=float(len(left)) / (len(left)+len(right))\n",
    "    q=float(len(right)) / (len(left)+len(right))\n",
    "    return current_uncertanity - p * gini(left) - q * gini(right)\n"
   ]
  },
  {
   "cell_type": "code",
   "execution_count": 10,
   "metadata": {},
   "outputs": [
    {
     "data": {
      "text/plain": [
       "0.6399999999999999"
      ]
     },
     "execution_count": 10,
     "metadata": {},
     "output_type": "execute_result"
    }
   ],
   "source": [
    "true_rows, false_rows = partition(training_data,Question(1,3))\n",
    "info_gain(true_rows,false_rows,0.84)\n",
    "gini(training_data)\n"
   ]
  },
  {
   "cell_type": "code",
   "execution_count": 11,
   "metadata": {},
   "outputs": [],
   "source": [
    "def find_best_split(rows):\n",
    "    best_gain =0\n",
    "    best_question = None\n",
    "    current_uncertanity = gini(rows)\n",
    "    n_features = len(rows[0])-1\n",
    "    for col in range(n_features):\n",
    "        values=set(row[col] for row in rows)\n",
    "        for val in values:\n",
    "            question=Question(col,val)\n",
    "            true_rows,false_rows=partition(rows,question)\n",
    "            if(len(true_rows))==0 or len(false_rows)==0:\n",
    "                continue\n",
    "            gain= info_gain(true_rows,false_rows,current_uncertanity)\n",
    "            if gain>=best_gain:\n",
    "                best_gain , best_question = gain , question\n",
    "    return best_gain , best_question    \n",
    "            "
   ]
  },
  {
   "cell_type": "code",
   "execution_count": 12,
   "metadata": {},
   "outputs": [],
   "source": [
    "class Leaf:\n",
    "    def __init__(self,rows):\n",
    "        self.predictions=count_labels(rows)"
   ]
  },
  {
   "cell_type": "code",
   "execution_count": 13,
   "metadata": {},
   "outputs": [],
   "source": [
    "class Decision_Node:\n",
    "    def __init__(self,question,true_branch,false_branch):\n",
    "        self.question=question\n",
    "        self.true_branch=true_branch\n",
    "        self.false_branch=false_branch\n",
    "        "
   ]
  },
  {
   "cell_type": "code",
   "execution_count": 14,
   "metadata": {},
   "outputs": [
    {
     "name": "stdout",
     "output_type": "stream",
     "text": [
      "0.37333333333333324 Is Diameter == 3 ?\n"
     ]
    }
   ],
   "source": [
    "best_gain,best_question=find_best_split(training_data)\n",
    "print(best_gain,best_question)"
   ]
  },
  {
   "cell_type": "code",
   "execution_count": 15,
   "metadata": {},
   "outputs": [],
   "source": [
    "def build_tree(rows):\n",
    "    gain,question = find_best_split(rows)\n",
    "    if gain==0:\n",
    "        return Leaf(rows)\n",
    "    true_rows , false_rows=partition(rows,question)\n",
    "    true_branch = build_tree(true_rows)\n",
    "    false_branch = build_tree(false_rows)\n",
    "    return Decision_Node(question,true_branch,false_branch)"
   ]
  },
  {
   "cell_type": "code",
   "execution_count": 16,
   "metadata": {},
   "outputs": [],
   "source": [
    "mytree=build_tree(training_data)"
   ]
  },
  {
   "cell_type": "code",
   "execution_count": 17,
   "metadata": {},
   "outputs": [],
   "source": [
    "def print_tree(node,spacing=\"\"):\n",
    "    if isinstance(node,Leaf):\n",
    "        print(spacing+\"Predict\",node.predictions)\n",
    "        return\n",
    "    #print the question at this node\n",
    "    print(spacing+str(node.question))\n",
    "    #call this function recursively on the true branch\n",
    "    print(spacing+'--> True:')\n",
    "    print_tree(node.true_branch,spacing+\" \")\n",
    "    \n",
    "    #call this function recursively on the fasle branch\n",
    "    print(spacing+'--> False:')\n",
    "    print_tree(node.false_branch,spacing+\" \")"
   ]
  },
  {
   "cell_type": "code",
   "execution_count": 18,
   "metadata": {},
   "outputs": [
    {
     "name": "stdout",
     "output_type": "stream",
     "text": [
      "Is Diameter == 3 ?\n",
      "--> True:\n",
      " Is Color == Green ?\n",
      " --> True:\n",
      "  Predict {'Apple': 1}\n",
      " --> False:\n",
      "  Predict {'Apple': 1, 'Lemon': 1}\n",
      "--> False:\n",
      " Predict {'Grape': 2}\n"
     ]
    }
   ],
   "source": [
    "print_tree(mytree)"
   ]
  },
  {
   "cell_type": "code",
   "execution_count": 19,
   "metadata": {},
   "outputs": [
    {
     "name": "stdout",
     "output_type": "stream",
     "text": [
      "Is Day == Overcast ?\n",
      "--> True:\n",
      " Predict {'Yes': 4}\n",
      "--> False:\n",
      " Is Temperature == High ?\n",
      " --> True:\n",
      "  Is Day == Rain ?\n",
      "  --> True:\n",
      "   Is Humidity == Weak ?\n",
      "   --> True:\n",
      "    Predict {'Yes': 1}\n",
      "   --> False:\n",
      "    Predict {'No': 1}\n",
      "  --> False:\n",
      "   Predict {'No': 3}\n",
      " --> False:\n",
      "  Is Humidity == Weak ?\n",
      "  --> True:\n",
      "   Predict {'Yes': 3}\n",
      "  --> False:\n",
      "   Is Outlook == Cool ?\n",
      "   --> True:\n",
      "    Predict {'No': 1}\n",
      "   --> False:\n",
      "    Predict {'Yes': 1}\n"
     ]
    }
   ],
   "source": [
    "header=['Day','Outlook','Temperature','Humidity','Wind','PlayTennis']\n",
    "data=[['Sunny','Hot','High','Weak','No'],\n",
    "['Sunny','Hot','High','Strong','No'],\n",
    "['Overcast','Hot','High','Weak','Yes'],\n",
    "['Rain','Mild','High','Weak','Yes'],\n",
    "['Rain','Cool','Normal','Weak','Yes'],\n",
    "['Rain','Cool','Normal','Strong','No'],\n",
    "['Overcast','Cool','Normal','Strong','Yes'],\n",
    "['Sunny','Mild','High','Weak','No'],\n",
    "['Sunny','Cool','Normal','Weak','Yes'],\n",
    "['Rain','Mild','Normal','Weak','Yes'],\n",
    "['Sunny','Mild','Normal','Strong','Yes'],\n",
    "['Overcast','Mild','High','Strong','Yes'],\n",
    "['Overcast','Hot','Normal','Weak','Yes'],\n",
    "['Rain','Mild','High','Strong','No'],]\n",
    "\n",
    "tennis_tree=build_tree(data)\n",
    "print_tree(tennis_tree)"
   ]
  },
  {
   "cell_type": "code",
   "execution_count": null,
   "metadata": {},
   "outputs": [],
   "source": []
  }
 ],
 "metadata": {
  "kernelspec": {
   "display_name": "Python 3",
   "language": "python",
   "name": "python3"
  },
  "language_info": {
   "codemirror_mode": {
    "name": "ipython",
    "version": 3
   },
   "file_extension": ".py",
   "mimetype": "text/x-python",
   "name": "python",
   "nbconvert_exporter": "python",
   "pygments_lexer": "ipython3",
   "version": "3.6.4"
  }
 },
 "nbformat": 4,
 "nbformat_minor": 2
}
