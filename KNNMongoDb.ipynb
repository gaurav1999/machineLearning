{
 "cells": [
  {
   "cell_type": "code",
   "execution_count": 70,
   "metadata": {},
   "outputs": [],
   "source": [
    "from pymongo import MongoClient\n",
    "from bson.objectid import ObjectId\n",
    "import pandas as pd\n",
    "import numpy as np\n",
    "from collections import Counter\n",
    "import matplotlib.pyplot as plt\n",
    "client=MongoClient('');\n",
    "db=client.PyData"
   ]
  },
  {
   "cell_type": "code",
   "execution_count": 71,
   "metadata": {},
   "outputs": [],
   "source": [
    "data={}\n",
    "NoOfPerson=[]\n",
    "Price=[]\n",
    "DaysBooking=[]\n",
    "HotelStar=[]\n",
    "Age=[]\n",
    "Booked=[]\n",
    "\n",
    "for i in db.Dataset1.find({}):\n",
    "    NoOfPerson.append(i['NoOfPerson'])\n",
    "    Price.append(i['Price'])\n",
    "    HotelStar.append(i['HotelStar'])\n",
    "    Age.append(i['Age'])\n",
    "    Booked.append(i['Booked'])\n",
    "    DaysBooking.append(i['DaysBooking'])\n"
   ]
  },
  {
   "cell_type": "code",
   "execution_count": 72,
   "metadata": {},
   "outputs": [
    {
     "data": {
      "image/png": "[encoded data removed]",
      "text/plain": [
       "<matplotlib.figure.Figure at 0x231c3859fd0>"
      ]
     },
     "metadata": {},
     "output_type": "display_data"
    }
   ],
   "source": [
    "plt.xlabel('Price')\n",
    "plt.ylabel('DaysBooking')\n",
    "\n",
    "for i in range(0,len(Price)):\n",
    "    if(Booked[i]==1):\n",
    "        col='r'    \n",
    "        plt.scatter(Price[i],DaysBooking[i],s=50,color=col)\n",
    "    else:\n",
    "        col='b'\n",
    "        plt.scatter(Price[i],DaysBooking[i],s=50,color=col)\n",
    "plt.show()    "
   ]
  },
  {
   "cell_type": "code",
   "execution_count": 73,
   "metadata": {},
   "outputs": [
    {
     "name": "stdout",
     "output_type": "stream",
     "text": [
      "[[2, 2000], [4, 4000], [2, 4000], [4, 4000], [3, 2000], [4, 3000], [3, 3000], [3, 4000], [3, 4000], [3, 2000], [3, 4000], [4, 3000], [2, 4000], [2, 2000], [3, 4000], [4, 2000], [2, 4000], [2, 4000], [3, 5000], [1, 3000], [2, 5000], [2, 5000], [1, 2000], [2, 4000], [3, 5000], [1, 2000], [2, 6000], [3, 4000], [2, 5000], [3, 5000], [3, 2000], [5, 5000], [4, 5000], [4, 2000], [3, 5000], [3, 6000], [2, 3000], [3, 5000], [1, 2000], [3, 4000], [4, 4000], [5, 3000], [4, 5000], [5, 4000], [4, 3000], [3, 4000], [2, 3000], [3, 4000], [4, 4000], [5, 3000], [3, 1000], [5, 3000], [2, 2000], [4, 4000], [3, 2000], [2, 4000], [4, 4000], [2, 3000], [4, 5000], [2, 2000], [3, 4000], [4, 3000], [2, 3000], [4, 4000], [1, 4000], [2, 3000], [5, 5000], [3, 5000], [3, 5000], [3, 4000], [4, 5000], [2, 2000], [1, 1000], [2, 5000], [4, 3000], [4, 3000], [3, 4000], [3, 4000], [1, 3000], [2, 4000], [2, 3000], [3, 3000], [2, 5000], [4, 3000], [1, 2000], [3, 3000], [4, 3000], [1, 2000], [4, 4000], [1, 4000], [2, 4000], [2, 4000], [4, 1000], [2, 4000], [4, 4000], [1, 2000], [3, 4000], [1, 5000], [1, 1500], [2, 4000], [5, 9000], [3, 3500], [1, 5000], [4, 1500], [2, 2000], [3, 3000], [4, 4000], [4, 4000], [3, 2000], [4, 3000], [4, 5000], [3, 3000], [3, 4000], [3, 4000], [3, 4000], [3, 3000], [2, 4000], [2, 2000], [3, 4000], [2, 4000], [3, 2000], [2, 4000], [3, 5000], [1, 3000], [2, 5000], [2, 5000], [2, 4000], [3, 5000], [1, 2000], [2, 6000], [3, 4000], [2, 5000], [3, 5000], [4, 4000], [3, 2000], [5, 5000], [4, 5000], [3, 5000], [3, 3000], [4, 4000], [2, 4000], [4, 4000], [3, 2000], [4, 5000], [3, 3000], [3, 4000], [3, 4000], [3, 4000], [4, 3000], [2, 4000], [2, 2000], [3, 4000], [2, 4000], [3, 5000], [3, 2000], [3, 5000], [1, 3000], [2, 5000], [2, 5000], [3, 5000], [1, 2000], [2, 6000], [3, 4000], [2, 5000], [3, 5000], [4, 4000], [3, 2000], [5, 5000], [4, 5000], [3, 5000], [1, 4000], [3, 5000], [2, 3000], [1, 3000], [3, 3000], [2, 4000], [3, 5000], [3, 3000], [4, 5000], [2, 4000], [3, 3000], [3, 3000], [3, 4000], [2, 3000], [5, 5000], [4, 3000], [3, 3000], [4, 4000], [2, 3000], [3, 4000], [4, 4000], [3, 2000], [2, 6000], [4, 4000], [1, 4000], [4, 5000], [3, 2000], [2, 3000], [1, 5000], [2, 2000], [2, 6000], [4, 4000], [3, 6000], [3, 2000], [1, 4000], [2, 3000], [4, 5000], [1, 2000], [4, 4000], [4, 3000], [2, 5000], [3, 4000], [3, 4000], [1, 3000], [2, 4000], [5, 4000], [2, 2000], [3, 6000], [3, 4000], [2, 4000], [3, 5000], [3, 5000], [2, 5000], [1, 2000], [1, 2000], [3, 4000], [2, 3000], [2, 5000], [4, 5000], [3, 5000], [3, 4000], [3, 6000], [3, 4000], [5, 3000], [3, 3000], [4, 5000], [4, 3000], [2, 3000], [4, 4000], [3, 1000], [5, 3000], [4, 4000], [4, 4000], [4, 4000], [3, 4000], [1, 4000], [4, 3000], [4, 4000], [1, 3000], [1, 4000], [1, 4000], [2, 3000], [3, 5000], [2, 4000], [3, 5000], [2, 5000], [3, 4000], [4, 3000], [3, 4000], [1, 3000], [2, 2000], [2, 3000], [4, 5000], [3, 3000], [1, 2000], [4, 3000], [1, 4000], [3, 3000], [2, 4000], [4, 1000], [2, 3000], [2, 4000], [4, 4000], [3, 4000], [1, 1500], [5, 9000], [2, 3000], [2, 4000], [3, 4000], [3, 3000], [3, 3000], [4, 4000], [3, 2000], [4, 3000], [3, 3000], [3, 4000], [2, 3000], [3, 2000], [3, 4000], [3, 3000], [2, 4000], [5, 4000], [3, 6000], [3, 4000], [4, 2000], [3, 2000], [2, 4000], [2, 5000], [2, 5000], [3, 5000], [3, 4000], [2, 3000], [2, 5000], [3, 5000], [4, 4000], [3, 2000], [5, 5000], [4, 5000], [4, 2000], [3, 5000], [3, 6000], [5, 4000], [3, 5000], [2, 6000], [1, 2000], [3, 4000], [4, 4000], [5, 3000], [3, 3000], [4, 3000], [3, 4000], [4, 4000], [5, 3000], [3, 1000], [5, 3000], [4, 4000], [2, 2000], [4, 4000], [3, 2000], [3, 3000], [2, 4000], [4, 4000], [2, 3000], [4, 5000], [3, 3000], [4, 3000], [4, 4000], [2, 3000], [3, 5000], [2, 4000], [3, 5000], [3, 5000], [4, 5000], [3, 4000], [2, 5000], [4, 3000], [2, 5000], [3, 4000], [2, 2000], [4, 3000], [2, 3000], [3, 4000], [2, 4000], [4, 5000], [3, 3000], [4, 3000], [3, 3000], [4, 3000], [2, 3000], [4, 4000], [2, 4000], [2, 4000], [4, 1000], [2, 4000], [4, 4000], [4, 4000], [2, 3000], [2, 5000], [3, 5000], [4, 5000], [3, 5000], [3, 4000], [2, 3000], [5, 4000], [3, 5000], [3, 4000], [4, 5000], [4, 3000], [3, 4000], [3, 4000], [5, 3000], [3, 1000], [5, 3000], [2, 2000], [3, 3000], [2, 4000], [4, 4000], [1, 4000], [2, 2000], [3, 4000], [2, 3000], [1, 3000], [1, 4000], [3, 4000], [4, 3000], [4, 300], [3, 3000], [4, 4000], [3, 4000], [3, 3000], [1, 2000], [3, 3000], [4, 3000], [5, 3000], [3, 3000], [2, 2000], [4, 4000], [3, 1000], [5, 2000], [2, 4000], [4, 3000], [2, 2000], [2, 3000], [4, 3000], [2, 5000], [3, 3000], [3, 4000], [2, 3000], [3, 2000], [2, 4000], [5, 4000], [2, 2000], [4, 2000], [2, 4000], [3, 2000], [2, 4000], [2, 5000], [1, 2000], [2, 3000], [4, 4000], [3, 2000], [4, 5000], [3, 4000], [1, 2000], [4, 4000], [3, 3000], [4, 5000], [5, 4000], [4, 3000], [4, 4000], [3, 1000], [4, 4000], [1, 2000], [2, 2000], [3, 2000], [2, 4000], [1, 4000], [2, 2000], [4, 3000], [4, 4000], [1, 3000], [1, 4000], [1, 4000], [3, 4000], [3, 5000], [2, 2000], [3, 4000], [1, 1000], [2, 5000], [2, 2000], [4, 3000], [2, 3000], [3, 4000], [2, 2000], [2, 4000], [4, 5000], [3, 3000], [3, 3000], [4, 3000], [2, 3000], [1, 4000], [4, 1000], [2, 3000], [4, 4000], [2, 3000], [3, 3000], [3, 2000], [4, 3000], [4, 5000], [3, 3000], [3, 4000], [3, 4000], [2, 3000], [3, 4000], [1, 3000], [3, 3000], [2, 4000], [5, 4000], [2, 2000], [3, 6000], [3, 4000], [4, 2000], [2, 4000], [3, 5000], [3, 2000], [2, 4000], [3, 5000], [1, 3000], [2, 5000], [2, 4000], [1, 4000], [3, 5000], [1, 2000], [3, 4000], [2, 3000], [2, 5000], [3, 5000], [3, 2000], [5, 5000], [4, 5000], [3, 5000], [3, 4000], [5, 4000], [3, 5000], [2, 6000], [3, 4000], [4, 5000], [5, 4000], [4, 3000], [3, 4000], [2, 3000], [4, 4000], [5, 3000], [3, 1000], [5, 3000], [4, 4000], [3, 2000], [3, 3000], [4, 4000], [2, 3000], [1, 4000], [2, 2000], [3, 4000], [1, 4000], [4, 3000], [1, 3000], [1, 4000], [1, 4000], [2, 3000], [5, 5000], [3, 5000], [2, 4000], [3, 5000], [3, 4000], [3, 5000], [2, 2000], [3, 4000], [2, 5000], [4, 3000], [2, 5000], [4, 3000], [3, 4000], [3, 4000], [2, 2000], [4, 3000], [2, 3000], [2, 3000], [4, 5000], [2, 5000], [1, 3000], [4, 3000], [1, 2000], [2, 3000], [4, 4000], [3, 3000], [2, 4000], [2, 4000], [4, 4000], [2, 3000], [2, 3000], [1, 2000], [2, 2000], [4, 4000], [2, 4000], [2, 2000], [4, 4000], [2, 4000], [4, 4000], [3, 2000], [4, 3000], [3, 3000], [3, 4000], [3, 4000], [3, 2000], [3, 4000], [4, 3000], [2, 4000], [2, 2000], [3, 4000], [4, 2000], [2, 4000], [1, 2000], [3, 5000], [1, 2000], [2, 6000], [3, 4000], [2, 5000], [3, 5000], [3, 2000], [5, 5000], [4, 5000], [4, 2000], [3, 5000], [3, 6000], [2, 3000], [3, 5000], [1, 2000], [3, 4000], [4, 4000], [5, 3000], [4, 5000], [5, 4000], [4, 3000], [3, 4000], [2, 3000], [3, 4000], [4, 4000], [5, 3000], [3, 1000], [5, 3000], [2, 2000], [4, 4000], [3, 2000], [2, 4000], [4, 4000], [2, 3000], [4, 5000], [2, 2000], [3, 4000], [4, 3000], [2, 3000], [4, 4000], [1, 4000], [2, 3000], [5, 5000], [3, 5000], [3, 5000], [3, 4000], [4, 5000], [2, 2000], [1, 1000], [2, 5000], [4, 3000], [4, 3000], [3, 4000], [3, 4000], [1, 3000], [2, 4000], [2, 3000], [3, 3000], [2, 5000], [4, 3000], [1, 2000], [3, 3000], [4, 3000], [1, 2000], [4, 4000], [1, 4000], [2, 4000], [2, 4000], [4, 1000], [2, 4000], [4, 4000], [2, 5500], [3, 3700], [3, 4200], [4, 3400], [2, 3000], [3, 4200], [2, 1800], [1, 3200], [3, 4000], [1, 3000], [3, 3000], [4, 3000], [2, 2000], [3, 4000], [4, 2000], [2, 4000], [3, 2000], [2, 4000], [1, 3000], [1, 2000], [2, 4000], [1, 4000], [3, 4000], [2, 3000], [2, 5000], [3, 5000], [4, 4000], [3, 2000], [2, 3000], [5, 5000], [4, 2000], [3, 5000], [2, 3000], [5, 4000], [3, 5000], [1, 2000], [4, 4000], [3, 3000], [5, 4000], [3, 4000], [3, 4000], [5, 3000], [3, 1000], [4, 4000], [4, 4000], [3, 2000], [2, 4000]]\n"
     ]
    }
   ],
   "source": [
    "train_set={1:[],0:[]}\n",
    "for i in range(0,len(Booked)):\n",
    "    data=[DaysBooking[i],Price[i]]\n",
    "    train_set[Booked[i]].append(data)\n",
    "print(train_set[1])    "
   ]
  },
  {
   "cell_type": "code",
   "execution_count": 74,
   "metadata": {},
   "outputs": [],
   "source": [
    "def k_nearest_neighbours(train_set,data,k=3):\n",
    "    if len(data)>=k:\n",
    "        warnings.warn('K is set to a value less than voting groups')\n",
    "    distances=[]\n",
    "    for label in train_set:\n",
    "        for features in train_set[label]:\n",
    "            euclidian_distance=np.linalg.norm(np.array(features)-np.array(data))\n",
    "            distances.append([euclidian_distance,label])\n",
    "    votes=[i[1] for i in sorted(distances)[:k]]\n",
    "        \n",
    "    vote_result=Counter(votes).most_common(1)[0][0]\n",
    "    return vote_result   "
   ]
  },
  {
   "cell_type": "code",
   "execution_count": 75,
   "metadata": {},
   "outputs": [
    {
     "data": {
      "text/plain": [
       "1"
      ]
     },
     "execution_count": 75,
     "metadata": {},
     "output_type": "execute_result"
    }
   ],
   "source": [
    "k_nearest_neighbours(train_set,[3,4200],3)"
   ]
  },
  {
   "cell_type": "code",
   "execution_count": 76,
   "metadata": {},
   "outputs": [
    {
     "data": {
      "image/png": "[encoded data removed]",
      "text/plain": [
       "<matplotlib.figure.Figure at 0x231c4164630>"
      ]
     },
     "metadata": {},
     "output_type": "display_data"
    }
   ],
   "source": [
    "plt.xlabel('Price')\n",
    "plt.ylabel('NoOfPersons')\n",
    "\n",
    "for i in range(0,len(Price)):\n",
    "    if(Booked[i]==1):\n",
    "        col='r'    \n",
    "        plt.scatter(Price[i],NoOfPerson[i],s=50,color=col)\n",
    "    else:\n",
    "        col='b'\n",
    "        plt.scatter(Price[i],NoOfPerson[i],s=50,color=col)\n",
    "plt.show()    "
   ]
  },
  {
   "cell_type": "code",
   "execution_count": 77,
   "metadata": {},
   "outputs": [
    {
     "data": {
      "text/plain": [
       "1"
      ]
     },
     "execution_count": 77,
     "metadata": {},
     "output_type": "execute_result"
    }
   ],
   "source": [
    "train_set={1:[],0:[]}\n",
    "for i in range(0,len(Booked)):\n",
    "    data=[NoOfPerson[i],Price[i]]\n",
    "    train_set[Booked[i]].append(data)\n",
    "k_nearest_neighbours(train_set,[2,1500],3)"
   ]
  },
  {
   "cell_type": "code",
   "execution_count": 80,
   "metadata": {},
   "outputs": [
    {
     "data": {
      "image/png": "[encoded data removed]",
      "text/plain": [
       "<matplotlib.figure.Figure at 0x231c3e59400>"
      ]
     },
     "metadata": {},
     "output_type": "display_data"
    }
   ],
   "source": [
    "plt.xlabel('HotelStar')\n",
    "plt.ylabel('Age')\n",
    "\n",
    "for i in range(0,len(Price)):\n",
    "    if(Booked[i]==1):\n",
    "        col='r'    \n",
    "        plt.scatter(HotelStar[i],Age[i],s=50,color=col)\n",
    "    else:\n",
    "        col='b'\n",
    "        plt.scatter(HotelStar[i],Age[i],s=50,color=col)\n",
    "plt.show()\n",
    "\n",
    "\n"
   ]
  },
  {
   "cell_type": "code",
   "execution_count": 88,
   "metadata": {},
   "outputs": [
    {
     "data": {
      "text/plain": [
       "1"
      ]
     },
     "execution_count": 88,
     "metadata": {},
     "output_type": "execute_result"
    }
   ],
   "source": [
    "train_set={1:[],0:[]}\n",
    "for i in range(0,len(Booked)):\n",
    "    data=[HotelStar[i],Age[i]]\n",
    "    train_set[Booked[i]].append(data)\n",
    "k_nearest_neighbours(train_set,[3,35],5)"
   ]
  },
  {
   "cell_type": "code",
   "execution_count": null,
   "metadata": {},
   "outputs": [],
   "source": []
  }
 ],
 "metadata": {
  "kernelspec": {
   "display_name": "Python 2",
   "language": "python",
   "name": "python2"
  },
  "language_info": {
   "codemirror_mode": {
    "name": "ipython",
    "version": 3
   },
   "file_extension": ".py",
   "mimetype": "text/x-python",
   "name": "python",
   "nbconvert_exporter": "python",
   "pygments_lexer": "ipython3",
   "version": "3.6.7"
  }
 },
 "nbformat": 4,
 "nbformat_minor": 2
}
